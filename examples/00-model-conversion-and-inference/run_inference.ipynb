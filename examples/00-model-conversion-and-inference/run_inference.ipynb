{
 "cells": [
  {
   "cell_type": "markdown",
   "id": "724cbafd",
   "metadata": {},
   "source": [
    "# Run inference\n",
    "\n",
    "This file runs inference of the NART model converted by `nart.switch`."
   ]
  },
  {
   "cell_type": "code",
   "execution_count": 1,
   "id": "797a9c83",
   "metadata": {},
   "outputs": [],
   "source": [
    "engine_bin_path = \"tmp/engine.bin\"\n",
    "engine_config_path = \"tmp/engine.bin.json\""
   ]
  },
  {
   "cell_type": "code",
   "execution_count": 2,
   "id": "3a389d65",
   "metadata": {},
   "outputs": [],
   "source": [
    "image_path = \"data/drum.jpg\"\n",
    "labels_path = \"data/imagenet_classes.txt\"\n",
    "expected_label = \"drum\""
   ]
  },
  {
   "cell_type": "code",
   "execution_count": 3,
   "id": "1cdfca5b",
   "metadata": {},
   "outputs": [],
   "source": [
    "from PIL import Image\n",
    "import numpy as np\n",
    "\n",
    "from nart.art import load_parade, create_context_from_json, get_empty_io"
   ]
  },
  {
   "cell_type": "code",
   "execution_count": 4,
   "id": "12b404d9",
   "metadata": {},
   "outputs": [],
   "source": [
    "# read labels\n",
    "with open(labels_path) as f:\n",
    "    labels = list(map(str.strip, f.readlines()))"
   ]
  },
  {
   "cell_type": "code",
   "execution_count": 5,
   "id": "e1f26c0f",
   "metadata": {},
   "outputs": [],
   "source": [
    "# prepare the input data\n",
    "img = Image.open(image_path).resize((256, 256)).crop((16, 16, 240, 240))\n",
    "input_data = np.array(img).transpose(2, 0, 1).astype(np.float32) / 255.0\n",
    "input_data -= np.array([0.485, 0.456, 0.406]).reshape((3, 1, 1))\n",
    "input_data /= np.array([0.229, 0.224, 0.225]).reshape((3, 1, 1))\n",
    "input_data = input_data.reshape((1, 3, 224, 224))"
   ]
  },
  {
   "cell_type": "code",
   "execution_count": 6,
   "id": "39ce61ba",
   "metadata": {},
   "outputs": [],
   "source": [
    "# load the NART model (parade)\n",
    "# may take some time if the target is cuda\n",
    "ctx = create_context_from_json(engine_config_path)\n",
    "parade = load_parade(engine_bin_path, ctx)"
   ]
  },
  {
   "cell_type": "code",
   "execution_count": 7,
   "id": "e937b16a",
   "metadata": {},
   "outputs": [],
   "source": [
    "# create placeholder for inputs and outputs of `parade`\n",
    "inputs, outputs = get_empty_io(parade)\n",
    "assert len(inputs) == 1 and len(outputs) == 1\n",
    "\n",
    "input_array = inputs[next(iter(inputs.keys()))]\n",
    "output_array = outputs[next(iter(outputs.keys()))]"
   ]
  },
  {
   "cell_type": "code",
   "execution_count": 8,
   "id": "22b6767d",
   "metadata": {},
   "outputs": [],
   "source": [
    "# setup the input data\n",
    "input_array[:] = input_data"
   ]
  },
  {
   "cell_type": "code",
   "execution_count": 9,
   "id": "12278a2e",
   "metadata": {},
   "outputs": [
    {
     "name": "stdout",
     "output_type": "stream",
     "text": [
      "True\n"
     ]
    }
   ],
   "source": [
    "# run inference\n",
    "res = parade.run(inputs, outputs)\n",
    "print(res)\n",
    "assert res"
   ]
  },
  {
   "cell_type": "code",
   "execution_count": 10,
   "id": "0842d365",
   "metadata": {},
   "outputs": [
    {
     "name": "stdout",
     "output_type": "stream",
     "text": [
      "['drum']\n"
     ]
    }
   ],
   "source": [
    "# verify the predicted result\n",
    "predict_res = np.argmax(output_array, axis=1)\n",
    "predict_labels = [labels[i] for i in predict_res.tolist()]\n",
    "print(predict_labels)\n",
    "assert predict_labels[0] == expected_label"
   ]
  }
 ],
 "metadata": {
  "jupytext": {
   "cell_metadata_filter": "-all",
   "main_language": "python",
   "notebook_metadata_filter": "-all"
  },
  "kernelspec": {
   "display_name": "Python 3 (ipykernel)",
   "language": "python",
   "name": "python3"
  },
  "language_info": {
   "codemirror_mode": {
    "name": "ipython",
    "version": 3
   },
   "file_extension": ".py",
   "mimetype": "text/x-python",
   "name": "python",
   "nbconvert_exporter": "python",
   "pygments_lexer": "ipython3",
   "version": "3.7.13"
  }
 },
 "nbformat": 4,
 "nbformat_minor": 5
}
